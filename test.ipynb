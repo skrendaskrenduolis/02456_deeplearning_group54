{
 "cells": [
  {
   "cell_type": "code",
   "execution_count": null,
   "id": "f1fdfc83-a933-48dc-8137-0060c8079a0d",
   "metadata": {},
   "outputs": [],
   "source": [
    "# TruthfulQA evaluation process\n",
    "import subprocess\n",
    "\n",
    "# run mergekit for each model merge on configured portable shell script\n",
    "_ = subprocess.Popen([\"bsub\"], stdout=subprocess.PIPE, stderr=subprocess.PIPE, stdin=open(\"Merges/merge_models.sh\", \"r\"))"
   ]
  },
  {
   "cell_type": "code",
   "execution_count": null,
   "id": "115bb649-046e-49c9-851c-36961924fa63",
   "metadata": {},
   "outputs": [],
   "source": [
    "# run TruthfulQA evaluation on configured portable shell script\n",
    "# runs run_models_truthful.py which calls edit_dataset_improved.py\n",
    "\n",
    "_ = subprocess.Popen([\"bsub\"], stdout=subprocess.PIPE, stderr=subprocess.PIPE, stdin=open(\"run_truthful_qa.sh\", \"r\"))"
   ]
  },
  {
   "cell_type": "code",
   "execution_count": null,
   "id": "96a1df20-e1da-451e-b7b7-153209c55a72",
   "metadata": {},
   "outputs": [],
   "source": [
    "# convert json to csv\n",
    "%run -i 'json_to_csv.py'"
   ]
  },
  {
   "cell_type": "code",
   "execution_count": null,
   "id": "83bbb062-ee77-4b3a-a567-a339142eb8c6",
   "metadata": {},
   "outputs": [],
   "source": [
    "# Open R project file in \"dl_project_r_scripts\" in R Studio and run to generate plots"
   ]
  }
 ],
 "metadata": {
  "kernelspec": {
   "display_name": "Python 3 (ipykernel)",
   "language": "python",
   "name": "python3"
  },
  "language_info": {
   "codemirror_mode": {
    "name": "ipython",
    "version": 3
   },
   "file_extension": ".py",
   "mimetype": "text/x-python",
   "name": "python",
   "nbconvert_exporter": "python",
   "pygments_lexer": "ipython3",
   "version": "3.12.3"
  }
 },
 "nbformat": 4,
 "nbformat_minor": 5
}
